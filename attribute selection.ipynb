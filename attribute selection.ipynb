{
 "cells": [
  {
   "cell_type": "code",
   "execution_count": 1,
   "id": "f64868f6",
   "metadata": {},
   "outputs": [],
   "source": [
    "import numpy as np\n",
    "import pandas as pd\n",
    "import matplotlib.pyplot as plt\n",
    "import seaborn as sns"
   ]
  },
  {
   "cell_type": "code",
   "execution_count": 2,
   "id": "664aca34",
   "metadata": {},
   "outputs": [
    {
     "data": {
      "text/html": [
       "<div>\n",
       "<style scoped>\n",
       "    .dataframe tbody tr th:only-of-type {\n",
       "        vertical-align: middle;\n",
       "    }\n",
       "\n",
       "    .dataframe tbody tr th {\n",
       "        vertical-align: top;\n",
       "    }\n",
       "\n",
       "    .dataframe thead th {\n",
       "        text-align: right;\n",
       "    }\n",
       "</style>\n",
       "<table border=\"1\" class=\"dataframe\">\n",
       "  <thead>\n",
       "    <tr style=\"text-align: right;\">\n",
       "      <th></th>\n",
       "      <th>outlook</th>\n",
       "      <th>temp</th>\n",
       "      <th>humidity</th>\n",
       "      <th>windy</th>\n",
       "      <th>play</th>\n",
       "    </tr>\n",
       "  </thead>\n",
       "  <tbody>\n",
       "    <tr>\n",
       "      <th>0</th>\n",
       "      <td>sunny</td>\n",
       "      <td>hot</td>\n",
       "      <td>high</td>\n",
       "      <td>False</td>\n",
       "      <td>no</td>\n",
       "    </tr>\n",
       "    <tr>\n",
       "      <th>1</th>\n",
       "      <td>sunny</td>\n",
       "      <td>hot</td>\n",
       "      <td>high</td>\n",
       "      <td>True</td>\n",
       "      <td>no</td>\n",
       "    </tr>\n",
       "    <tr>\n",
       "      <th>2</th>\n",
       "      <td>overcast</td>\n",
       "      <td>hot</td>\n",
       "      <td>high</td>\n",
       "      <td>False</td>\n",
       "      <td>yes</td>\n",
       "    </tr>\n",
       "    <tr>\n",
       "      <th>3</th>\n",
       "      <td>rainy</td>\n",
       "      <td>mild</td>\n",
       "      <td>high</td>\n",
       "      <td>False</td>\n",
       "      <td>yes</td>\n",
       "    </tr>\n",
       "    <tr>\n",
       "      <th>4</th>\n",
       "      <td>rainy</td>\n",
       "      <td>cool</td>\n",
       "      <td>normal</td>\n",
       "      <td>False</td>\n",
       "      <td>yes</td>\n",
       "    </tr>\n",
       "    <tr>\n",
       "      <th>5</th>\n",
       "      <td>rainy</td>\n",
       "      <td>cool</td>\n",
       "      <td>normal</td>\n",
       "      <td>True</td>\n",
       "      <td>no</td>\n",
       "    </tr>\n",
       "    <tr>\n",
       "      <th>6</th>\n",
       "      <td>overcast</td>\n",
       "      <td>cool</td>\n",
       "      <td>normal</td>\n",
       "      <td>True</td>\n",
       "      <td>yes</td>\n",
       "    </tr>\n",
       "    <tr>\n",
       "      <th>7</th>\n",
       "      <td>sunny</td>\n",
       "      <td>mild</td>\n",
       "      <td>high</td>\n",
       "      <td>False</td>\n",
       "      <td>no</td>\n",
       "    </tr>\n",
       "    <tr>\n",
       "      <th>8</th>\n",
       "      <td>sunny</td>\n",
       "      <td>cool</td>\n",
       "      <td>normal</td>\n",
       "      <td>False</td>\n",
       "      <td>yes</td>\n",
       "    </tr>\n",
       "    <tr>\n",
       "      <th>9</th>\n",
       "      <td>rainy</td>\n",
       "      <td>mild</td>\n",
       "      <td>normal</td>\n",
       "      <td>False</td>\n",
       "      <td>yes</td>\n",
       "    </tr>\n",
       "    <tr>\n",
       "      <th>10</th>\n",
       "      <td>sunny</td>\n",
       "      <td>mild</td>\n",
       "      <td>normal</td>\n",
       "      <td>True</td>\n",
       "      <td>yes</td>\n",
       "    </tr>\n",
       "    <tr>\n",
       "      <th>11</th>\n",
       "      <td>overcast</td>\n",
       "      <td>mild</td>\n",
       "      <td>high</td>\n",
       "      <td>True</td>\n",
       "      <td>yes</td>\n",
       "    </tr>\n",
       "    <tr>\n",
       "      <th>12</th>\n",
       "      <td>overcast</td>\n",
       "      <td>hot</td>\n",
       "      <td>normal</td>\n",
       "      <td>False</td>\n",
       "      <td>yes</td>\n",
       "    </tr>\n",
       "    <tr>\n",
       "      <th>13</th>\n",
       "      <td>rainy</td>\n",
       "      <td>mild</td>\n",
       "      <td>high</td>\n",
       "      <td>True</td>\n",
       "      <td>no</td>\n",
       "    </tr>\n",
       "  </tbody>\n",
       "</table>\n",
       "</div>"
      ],
      "text/plain": [
       "     outlook  temp humidity  windy play\n",
       "0      sunny   hot     high  False   no\n",
       "1      sunny   hot     high   True   no\n",
       "2   overcast   hot     high  False  yes\n",
       "3      rainy  mild     high  False  yes\n",
       "4      rainy  cool   normal  False  yes\n",
       "5      rainy  cool   normal   True   no\n",
       "6   overcast  cool   normal   True  yes\n",
       "7      sunny  mild     high  False   no\n",
       "8      sunny  cool   normal  False  yes\n",
       "9      rainy  mild   normal  False  yes\n",
       "10     sunny  mild   normal   True  yes\n",
       "11  overcast  mild     high   True  yes\n",
       "12  overcast   hot   normal  False  yes\n",
       "13     rainy  mild     high   True   no"
      ]
     },
     "execution_count": 2,
     "metadata": {},
     "output_type": "execute_result"
    }
   ],
   "source": [
    "df1=pd.read_csv(\"PlayTennis.csv\")\n",
    "df1"
   ]
  },
  {
   "cell_type": "code",
   "execution_count": 3,
   "id": "9b3a849d",
   "metadata": {},
   "outputs": [],
   "source": [
    "def probability(event,sample_space):\n",
    "    \n",
    "    p = np.count_nonzero(sample_space==event) / len(sample_space)\n",
    "    return p\n"
   ]
  },
  {
   "cell_type": "code",
   "execution_count": 4,
   "id": "1cc360b5",
   "metadata": {},
   "outputs": [],
   "source": [
    "def conditional(event,event_sample,condition,condition_sample):\n",
    "    \n",
    "    num = np.count_nonzero((event_sample==event) & (condition_sample==condition))\n",
    "    #num = P(A n B) for example we have to find when outlook == sunny and condition == yes\n",
    "    \n",
    "    deno = np.count_nonzero(condition_sample==condition)\n",
    "    #deno = P(B)\n",
    "    \n",
    "    return num/deno \n",
    "    "
   ]
  },
  {
   "cell_type": "code",
   "execution_count": 72,
   "id": "92c1f516",
   "metadata": {},
   "outputs": [],
   "source": [
    "def entropy(data,target):\n",
    "    classs = np.unique(target)\n",
    "    \n",
    "    if isinstance(data,pd.Series):   # for single column\n",
    "        data=data.to_frame()\n",
    "        \n",
    "    entropy=[]\n",
    "    for col in data.columns:\n",
    "        attr = np.unique(data[col])\n",
    "        total_ent=0\n",
    "        for i in attr:\n",
    "            ent=0\n",
    "            for j in classs:\n",
    "                prob = conditional(j,target,i,data[col])\n",
    "                ent += -(prob * np.log2(prob)) if prob>0 else 0    \n",
    "            total_ent += probability(i,data[col]) * ent \n",
    "        entropy.append(np.trunc(total_ent*100)/100)\n",
    "    feature_split = data.columns[entropy.index(min(entropy))]    \n",
    "    return entropy,feature_split    "
   ]
  },
  {
   "cell_type": "code",
   "execution_count": 73,
   "id": "385db72b",
   "metadata": {},
   "outputs": [
    {
     "data": {
      "text/plain": [
       "([0.69, 0.91, 0.78, 0.89], 'outlook')"
      ]
     },
     "execution_count": 73,
     "metadata": {},
     "output_type": "execute_result"
    }
   ],
   "source": [
    "data=df1.drop([\"play\"],axis=1)\n",
    "entropy(data,df1[\"play\"])"
   ]
  },
  {
   "cell_type": "code",
   "execution_count": 74,
   "id": "b77d0297",
   "metadata": {},
   "outputs": [],
   "source": [
    "def entropy_parent(data,target):\n",
    "    classs = np.unique(target)        \n",
    "    attr = np.unique(data)\n",
    "    total_ent=0\n",
    "    for i in attr:\n",
    "        ent=0      \n",
    "        total_ent -= probability(i,data) * np.log2(probability(i,data)) \n",
    "    entropy=(np.trunc(total_ent*100)/100)\n",
    "    return entropy    "
   ]
  },
  {
   "cell_type": "code",
   "execution_count": 75,
   "id": "abeeea31",
   "metadata": {},
   "outputs": [
    {
     "data": {
      "text/plain": [
       "0.94"
      ]
     },
     "execution_count": 75,
     "metadata": {},
     "output_type": "execute_result"
    }
   ],
   "source": [
    "entropy_parent(df1[\"play\"],df1[\"play\"])"
   ]
  },
  {
   "cell_type": "code",
   "execution_count": 80,
   "id": "190a45d0",
   "metadata": {},
   "outputs": [],
   "source": [
    "def gini(data,target):\n",
    "    classs = np.unique(target)\n",
    "    \n",
    "    if isinstance(data,pd.Series):   # for single column\n",
    "        data=data.to_frame()\n",
    "        \n",
    "    gini=[]\n",
    "    for col in pd.DataFrame(data):\n",
    "        attr = np.unique(data[col])\n",
    "        total_gin=0\n",
    "        for i in attr:\n",
    "            gin=0\n",
    "            for j in classs:\n",
    "                prob = conditional(j,target,i,data[col])\n",
    "                gin += prob**2\n",
    "            gin = 1 - gin    \n",
    "            total_gin +=  probability(i,data[col]) * gin\n",
    "        gini.append(np.trunc(total_gin*100)/100)\n",
    "        \n",
    "    feature_split = data.columns[gini.index(min(gini))]    \n",
    "    return gini,feature_split   "
   ]
  },
  {
   "cell_type": "code",
   "execution_count": 81,
   "id": "a4bb6388",
   "metadata": {},
   "outputs": [
    {
     "data": {
      "text/plain": [
       "([0.34, 0.44, 0.36, 0.42], 'outlook')"
      ]
     },
     "execution_count": 81,
     "metadata": {},
     "output_type": "execute_result"
    }
   ],
   "source": [
    "data=df1.drop([\"play\"],axis=1)\n",
    "gini(data,df1[\"play\"])"
   ]
  },
  {
   "cell_type": "code",
   "execution_count": 78,
   "id": "6820e1a2",
   "metadata": {},
   "outputs": [],
   "source": [
    "def info_gain(data,target):\n",
    "    parent = entropy_parent(target,target)\n",
    "    \n",
    "    info_gain =[]\n",
    "    for col in data.columns:\n",
    "        \n",
    "        children = entropy(data[col],target)[0]\n",
    "        info = parent - children\n",
    "        info_gain.append(info)\n",
    "    \n",
    "    feature_split = data.columns[info_gain.index(max(info_gain))]    \n",
    "    return info_gain,feature_split\n",
    "        "
   ]
  },
  {
   "cell_type": "code",
   "execution_count": 79,
   "id": "b5a0acb1",
   "metadata": {},
   "outputs": [
    {
     "data": {
      "text/plain": [
       "([array([0.25]), array([0.03]), array([0.16]), array([0.05])], 'outlook')"
      ]
     },
     "execution_count": 79,
     "metadata": {},
     "output_type": "execute_result"
    }
   ],
   "source": [
    "info_gain(data,df1[\"play\"])"
   ]
  },
  {
   "cell_type": "code",
   "execution_count": 82,
   "id": "658b9367",
   "metadata": {},
   "outputs": [],
   "source": []
  },
  {
   "cell_type": "code",
   "execution_count": 119,
   "id": "0f18c723",
   "metadata": {},
   "outputs": [
    {
     "name": "stdout",
     "output_type": "stream",
     "text": [
      "chi2 :  4.093338188813542\n"
     ]
    }
   ],
   "source": [
    "#chi2\n",
    "\n",
    "a=pd.crosstab(df1[\"outlook\"],df1[\"play\"])\n",
    "a_num=a.to_numpy()\n",
    "total=[]\n",
    "for i in range(len(a)):\n",
    "    v=np.sum(a.values[i])\n",
    "    total.append(v)\n",
    "total=np.array(total)    \n",
    "a[\"total\"] = total\n",
    "a[\"expected\"] = total/2\n",
    "a[\"deviation_no\"] = a_num[:,0] - a[\"expected\"]\n",
    "a[\"deviation_yes\"] = a_num[:,1] - a[\"expected\"]\n",
    "a[\"chi2_no\"]=np.sqrt(a[\"deviation_no\"]**2/a[\"expected\"])\n",
    "a[\"chi2_yes\"]=np.sqrt(a[\"deviation_yes\"]**2/a[\"expected\"])\n",
    "chi2 = np.sum(2*a[\"chi2_no\"])\n",
    "print(\"chi2 : \",chi2)"
   ]
  },
  {
   "cell_type": "code",
   "execution_count": 120,
   "id": "2f05c8a2",
   "metadata": {},
   "outputs": [
    {
     "data": {
      "text/html": [
       "<div>\n",
       "<style scoped>\n",
       "    .dataframe tbody tr th:only-of-type {\n",
       "        vertical-align: middle;\n",
       "    }\n",
       "\n",
       "    .dataframe tbody tr th {\n",
       "        vertical-align: top;\n",
       "    }\n",
       "\n",
       "    .dataframe thead th {\n",
       "        text-align: right;\n",
       "    }\n",
       "</style>\n",
       "<table border=\"1\" class=\"dataframe\">\n",
       "  <thead>\n",
       "    <tr style=\"text-align: right;\">\n",
       "      <th>play</th>\n",
       "      <th>no</th>\n",
       "      <th>yes</th>\n",
       "      <th>total</th>\n",
       "      <th>expected</th>\n",
       "      <th>deviation_no</th>\n",
       "      <th>deviation_yes</th>\n",
       "      <th>chi2_no</th>\n",
       "      <th>chi2_yes</th>\n",
       "    </tr>\n",
       "    <tr>\n",
       "      <th>outlook</th>\n",
       "      <th></th>\n",
       "      <th></th>\n",
       "      <th></th>\n",
       "      <th></th>\n",
       "      <th></th>\n",
       "      <th></th>\n",
       "      <th></th>\n",
       "      <th></th>\n",
       "    </tr>\n",
       "  </thead>\n",
       "  <tbody>\n",
       "    <tr>\n",
       "      <th>overcast</th>\n",
       "      <td>0</td>\n",
       "      <td>4</td>\n",
       "      <td>4</td>\n",
       "      <td>2.0</td>\n",
       "      <td>-2.0</td>\n",
       "      <td>2.0</td>\n",
       "      <td>1.414214</td>\n",
       "      <td>1.414214</td>\n",
       "    </tr>\n",
       "    <tr>\n",
       "      <th>rainy</th>\n",
       "      <td>2</td>\n",
       "      <td>3</td>\n",
       "      <td>5</td>\n",
       "      <td>2.5</td>\n",
       "      <td>-0.5</td>\n",
       "      <td>0.5</td>\n",
       "      <td>0.316228</td>\n",
       "      <td>0.316228</td>\n",
       "    </tr>\n",
       "    <tr>\n",
       "      <th>sunny</th>\n",
       "      <td>3</td>\n",
       "      <td>2</td>\n",
       "      <td>5</td>\n",
       "      <td>2.5</td>\n",
       "      <td>0.5</td>\n",
       "      <td>-0.5</td>\n",
       "      <td>0.316228</td>\n",
       "      <td>0.316228</td>\n",
       "    </tr>\n",
       "  </tbody>\n",
       "</table>\n",
       "</div>"
      ],
      "text/plain": [
       "play      no  yes  total  expected  deviation_no  deviation_yes   chi2_no  \\\n",
       "outlook                                                                     \n",
       "overcast   0    4      4       2.0          -2.0            2.0  1.414214   \n",
       "rainy      2    3      5       2.5          -0.5            0.5  0.316228   \n",
       "sunny      3    2      5       2.5           0.5           -0.5  0.316228   \n",
       "\n",
       "play      chi2_yes  \n",
       "outlook             \n",
       "overcast  1.414214  \n",
       "rainy     0.316228  \n",
       "sunny     0.316228  "
      ]
     },
     "execution_count": 120,
     "metadata": {},
     "output_type": "execute_result"
    }
   ],
   "source": [
    "a"
   ]
  },
  {
   "cell_type": "code",
   "execution_count": null,
   "id": "62cf9363",
   "metadata": {},
   "outputs": [],
   "source": []
  },
  {
   "cell_type": "code",
   "execution_count": null,
   "id": "37263f59",
   "metadata": {},
   "outputs": [],
   "source": []
  },
  {
   "cell_type": "code",
   "execution_count": null,
   "id": "4b56f301",
   "metadata": {},
   "outputs": [],
   "source": []
  }
 ],
 "metadata": {
  "kernelspec": {
   "display_name": "Python 3 (ipykernel)",
   "language": "python",
   "name": "python3"
  },
  "language_info": {
   "codemirror_mode": {
    "name": "ipython",
    "version": 3
   },
   "file_extension": ".py",
   "mimetype": "text/x-python",
   "name": "python",
   "nbconvert_exporter": "python",
   "pygments_lexer": "ipython3",
   "version": "3.11.5"
  }
 },
 "nbformat": 4,
 "nbformat_minor": 5
}
