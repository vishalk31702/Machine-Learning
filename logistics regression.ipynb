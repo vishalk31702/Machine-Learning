{
 "cells": [
  {
   "cell_type": "code",
   "execution_count": 2,
   "id": "e322cb6b",
   "metadata": {},
   "outputs": [],
   "source": [
    "import pandas as pd\n",
    "import numpy as np\n",
    "import matplotlib.pyplot as plt\n",
    "from sklearn import datasets"
   ]
  },
  {
   "cell_type": "code",
   "execution_count": 3,
   "id": "dcb8fc11",
   "metadata": {},
   "outputs": [],
   "source": [
    "x,y=datasets.make_classification(n_samples=100,n_features=5,)"
   ]
  },
  {
   "cell_type": "code",
   "execution_count": 4,
   "id": "81e8b751",
   "metadata": {},
   "outputs": [
    {
     "data": {
      "text/plain": [
       "<matplotlib.collections.PathCollection at 0x2300f0a2410>"
      ]
     },
     "execution_count": 4,
     "metadata": {},
     "output_type": "execute_result"
    },
    {
     "data": {
      "image/png": "[encoded data removed]",
      "text/plain": [
       "<Figure size 640x480 with 1 Axes>"
      ]
     },
     "metadata": {},
     "output_type": "display_data"
    }
   ],
   "source": [
    "plt.scatter(x[:,0],y)"
   ]
  },
  {
   "cell_type": "code",
   "execution_count": 5,
   "id": "58373f01",
   "metadata": {},
   "outputs": [],
   "source": [
    "def sigmoid(z):\n",
    "    return 1/(1+np.exp(-z))\n",
    "\n",
    "\n",
    "def fit(data,target):\n",
    "    n_sample,n_feature=data.shape\n",
    "    \n",
    "    weights = np.zeros(n_feature)   # assign weights to zero\n",
    "    bias=0           #assign bias/intercept to zero\n",
    "    \n",
    "    l_rate=0.01\n",
    "    \n",
    "    for i in range(1000):\n",
    "        linear_model = np.dot(data,weights) + bias    # y' = W.X + b  ;where W=[w1,w2,w3,...,wn] and X=[x1,x2,x3,...,xn]\n",
    "        \n",
    "        ypred = sigmoid(linear_model)  #ypred = 1/{1+e^(-y')}\n",
    "        \n",
    "        #cost function = (1/n) sigma{(y- ypred)^2} = (1/n) sigma[(y-1/{1+e^(-z)})]  ;where z = W.X + b\n",
    "                                                                        # and W=[w1,w2,w3,...,wn] and X=[x1,x2,x3,...,xn]\n",
    "        \n",
    "        dw = np.dot(data.T,(ypred-target))*(2/n_sample)  #  dw = derivative of cost function wrt W vector \n",
    "                                                         #       = (2/n) sigma{(y- ypred)}.W \n",
    "        \n",
    "        db = np.sum(ypred-target)*(2/n_sample)           #  db = derivative of cost function wrt b  \n",
    "                                                         #      = (2/n) sigma{(y- ypred)} \n",
    "        \n",
    "        weights -= l_rate*dw    # new_wt = old_wt - learning rate * dw ; neagtive sign for opposite direction of steepest \n",
    "        \n",
    "        bias -= l_rate*db    # new_b = old_b - learning rate * db ; neagtive sign for opposite direction of steepest \n",
    "    \n",
    "    return weights,bias\n",
    "\n",
    "def predict(data,weights,bias):\n",
    "    linear = np.dot(data,weights) + bias  # linear  = W.X + b  ;where W=[w1,w2,w3,...,wn] and X=[x1,x2,x3,...,xn]\n",
    "    ypred = sigmoid(linear)               # ypred = 1/{1+e^(-linear')}\n",
    "    \n",
    "    return [1 if i>0.5 else 0 for i in ypred]  #if ypred > 0.5 then predicted class is 1 otherwise zero."
   ]
  },
  {
   "cell_type": "code",
   "execution_count": 6,
   "id": "2478f342",
   "metadata": {},
   "outputs": [],
   "source": [
    "from sklearn.model_selection import train_test_split\n",
    "from sklearn.metrics import accuracy_score"
   ]
  },
  {
   "cell_type": "code",
   "execution_count": 15,
   "id": "ea935bf9",
   "metadata": {},
   "outputs": [],
   "source": [
    "X_train, X_test, y_train, y_test = train_test_split(x, y, test_size=0.33, random_state=42)\n",
    "w,b=fit(X_train,y_train)"
   ]
  },
  {
   "cell_type": "code",
   "execution_count": 16,
   "id": "e18f393a",
   "metadata": {},
   "outputs": [],
   "source": [
    "ypred=predict(X_test,w,b)"
   ]
  },
  {
   "cell_type": "code",
   "execution_count": 17,
   "id": "5c4e834e",
   "metadata": {},
   "outputs": [
    {
     "data": {
      "text/plain": [
       "0.9696969696969697"
      ]
     },
     "execution_count": 17,
     "metadata": {},
     "output_type": "execute_result"
    }
   ],
   "source": [
    "accuracy_score(y_test,ypred)"
   ]
  },
  {
   "cell_type": "code",
   "execution_count": 18,
   "id": "cdab7e85",
   "metadata": {},
   "outputs": [],
   "source": [
    "#library"
   ]
  },
  {
   "cell_type": "code",
   "execution_count": 21,
   "id": "d106bc2a",
   "metadata": {},
   "outputs": [],
   "source": [
    "from sklearn.linear_model import LogisticRegression\n",
    "le=LogisticRegression()"
   ]
  },
  {
   "cell_type": "code",
   "execution_count": 22,
   "id": "9f9b895c",
   "metadata": {},
   "outputs": [
    {
     "data": {
      "text/plain": [
       "0.9696969696969697"
      ]
     },
     "execution_count": 22,
     "metadata": {},
     "output_type": "execute_result"
    }
   ],
   "source": [
    "le.fit(X_train,y_train)\n",
    "accuracy_score(y_test,le.predict(X_test))"
   ]
  },
  {
   "cell_type": "code",
   "execution_count": null,
   "id": "2facadec",
   "metadata": {},
   "outputs": [],
   "source": []
  },
  {
   "cell_type": "code",
   "execution_count": null,
   "id": "439c8b32",
   "metadata": {},
   "outputs": [],
   "source": []
  }
 ],
 "metadata": {
  "kernelspec": {
   "display_name": "Python 3 (ipykernel)",
   "language": "python",
   "name": "python3"
  },
  "language_info": {
   "codemirror_mode": {
    "name": "ipython",
    "version": 3
   },
   "file_extension": ".py",
   "mimetype": "text/x-python",
   "name": "python",
   "nbconvert_exporter": "python",
   "pygments_lexer": "ipython3",
   "version": "3.11.5"
  }
 },
 "nbformat": 4,
 "nbformat_minor": 5
}
